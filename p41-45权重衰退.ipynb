{
 "cells": [
  {
   "cell_type": "code",
   "execution_count": 1,
   "id": "3000d2ca",
   "metadata": {},
   "outputs": [],
   "source": [
    "%matplotlib inline\n",
    "import torch\n",
    "from torch import nn\n",
    "from d2l import torch as d21\n"
   ]
  },
  {
   "cell_type": "code",
   "execution_count": 2,
   "id": "0a0c7f9a",
   "metadata": {},
   "outputs": [],
   "source": [
    "n_train, n_test, num_inputs, batch_size = 20, 100, 200, 5\n",
    "true_w, true_b = torch.ones((num_inputs, 1)) * 0.01, 0.05\n",
    "train_data = d21.synthetic_data(true_w, true_b, n_train)\n",
    "train_iter = d21.load_array(train_data, batch_size)\n",
    "test_data = d21.synthetic_data(true_w, true_b, n_test)\n",
    "test_iter = d21.load_array(test_data, batch_size, is_train=False)\n"
   ]
  },
  {
   "cell_type": "code",
   "execution_count": 3,
   "id": "96174210",
   "metadata": {},
   "outputs": [],
   "source": [
    "def init_params():\n",
    "    w = torch.normal(0, 1, size=(num_inputs, 1), requires_grad=True)\n",
    "    b = torch.zeros(1, requires_grad=True)\n",
    "    return [w, b]\n"
   ]
  },
  {
   "cell_type": "code",
   "execution_count": 4,
   "id": "b1757970",
   "metadata": {},
   "outputs": [],
   "source": [
    "def l2_penalty(w):\n",
    "    return torch.sum(w.pow(2)) / 2\n"
   ]
  },
  {
   "cell_type": "code",
   "execution_count": 6,
   "id": "409d8fc6",
   "metadata": {},
   "outputs": [
    {
     "ename": "SyntaxError",
     "evalue": "invalid syntax (2092458179.py, line 11)",
     "output_type": "error",
     "traceback": [
      "\u001b[0;36m  Cell \u001b[0;32mIn[6], line 11\u001b[0;36m\u001b[0m\n\u001b[0;31m    l = loss(net(X), y) + lambda * l2_penalty(w)\u001b[0m\n\u001b[0m                          ^\u001b[0m\n\u001b[0;31mSyntaxError\u001b[0m\u001b[0;31m:\u001b[0m invalid syntax\n"
     ]
    }
   ],
   "source": [
    "def train(lambd):\n",
    "    w, b = init_params()\n",
    "    net, loss = lambda X: (d21.linreg(X, w, b), d21.squared_loss)\n",
    "    num_epochs, lr = 100, 0.003\n",
    "    animator = d21.Animator(xlabel='epoch', ylabel='loss', xscale='log', yscale='log', \n",
    "                            xlim=[5, num_epochs], legend=['train', 'test'])\n",
    "    \n",
    "    for epoch in range(num_epochs):\n",
    "        for X, y in train_iter:\n",
    "            with torch.enable_grad():\n",
    "                l = loss(net(X), y) + lambda * l2_penalty(w)\n",
    "                l.sum().backward()\n",
    "                d21.sgd([w, b], lr, batch_size)\n",
    "        \n",
    "        if (epoch + 1) % 5 == 0:\n",
    "            animator.add(epoch + 1, \n",
    "                         d21.evaluate_loss(net, train_iter, loss), \n",
    "                         d21.evaluate_loss(net, test_iter, loss))\n",
    "    print('w的L2范数是:', torch.norm(w).item())\n"
   ]
  },
  {
   "cell_type": "code",
   "execution_count": null,
   "id": "6ecf0d40",
   "metadata": {},
   "outputs": [],
   "source": []
  }
 ],
 "metadata": {
  "kernelspec": {
   "display_name": "Python 3 (ipykernel)",
   "language": "python",
   "name": "python3"
  },
  "language_info": {
   "codemirror_mode": {
    "name": "ipython",
    "version": 3
   },
   "file_extension": ".py",
   "mimetype": "text/x-python",
   "name": "python",
   "nbconvert_exporter": "python",
   "pygments_lexer": "ipython3",
   "version": "3.11.4"
  }
 },
 "nbformat": 4,
 "nbformat_minor": 5
}
