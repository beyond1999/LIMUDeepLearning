{
 "cells": [
  {
   "cell_type": "markdown",
   "id": "eed78207",
   "metadata": {},
   "source": [
    "### 3-21\n",
    "- Q1 copy 可以不copy内存 clone\n",
    "- Q2 对哪维度求和就是消除哪一维度\n",
    "- Q3 sum(axis=[0, 1])怎么求\n",
    "\n",
    "## 自动求导\n",
    "假设我们对函数 `y = 2x^T x `关于列向量x求导\n"
   ]
  },
  {
   "cell_type": "code",
   "execution_count": null,
   "id": "b746cee3",
   "metadata": {},
   "outputs": [],
   "source": []
  }
 ],
 "metadata": {
  "kernelspec": {
   "display_name": "Python 3 (ipykernel)",
   "language": "python",
   "name": "python3"
  },
  "language_info": {
   "codemirror_mode": {
    "name": "ipython",
    "version": 3
   },
   "file_extension": ".py",
   "mimetype": "text/x-python",
   "name": "python",
   "nbconvert_exporter": "python",
   "pygments_lexer": "ipython3",
   "version": "3.11.4"
  }
 },
 "nbformat": 4,
 "nbformat_minor": 5
}
