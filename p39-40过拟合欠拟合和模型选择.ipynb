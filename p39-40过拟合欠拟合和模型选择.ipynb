{
 "cells": [
  {
   "cell_type": "code",
   "execution_count": 1,
   "id": "a2af49a6",
   "metadata": {},
   "outputs": [],
   "source": [
    "import math\n",
    "import numpy as np\n",
    "import torch\n",
    "from torch import nn\n",
    "from d2l import torch as d2l\n"
   ]
  },
  {
   "cell_type": "code",
   "execution_count": 2,
   "id": "02a8fb8e",
   "metadata": {},
   "outputs": [],
   "source": [
    "max_degree = 20\n",
    "n_train, n_test = 100, 100\n",
    "true_w = np.zeros(max_degree)\n",
    "true_w[0:4] = np.array([5, 1.2, -3.4, 5.6])\n",
    "features = np.random.normal(size=(n_train + n_test, 1))\n",
    "np.random.shuffle(features)\n",
    "poly_features = np.power(features, np.arange(max_degree).reshape(1, -1))\n",
    "for i in range(max_degree):\n",
    "    poly_features[:, i] /= math.gamma(i + 1)\n",
    "labels = np.dot(poly_features, true_w)\n",
    "labels += np.random.normal(scale=0.1, size=labels.shape)\n"
   ]
  },
  {
   "cell_type": "code",
   "execution_count": 3,
   "id": "a377f134",
   "metadata": {},
   "outputs": [
    {
     "name": "stderr",
     "output_type": "stream",
     "text": [
      "/var/folders/n5/6rbsb_g91xvbk54r7z6gv_jm0000gn/T/ipykernel_19629/3095538953.py:5: UserWarning: To copy construct from a tensor, it is recommended to use sourceTensor.clone().detach() or sourceTensor.clone().detach().requires_grad_(True), rather than torch.tensor(sourceTensor).\n",
      "  x = torch.tensor(x, dtype=torch.float32)\n"
     ]
    },
    {
     "data": {
      "text/plain": [
       "(tensor([[-0.3402],\n",
       "         [-0.0690]]),\n",
       " tensor([[ 1.0000e+00, -3.4018e-01,  5.7861e-02, -6.5611e-03,  5.5799e-04,\n",
       "          -3.7963e-05,  2.1524e-06, -1.0460e-07,  4.4478e-09, -1.6812e-10,\n",
       "           5.7190e-12, -1.7686e-13,  5.0138e-15, -1.3120e-16,  3.1880e-18,\n",
       "          -7.2299e-20,  1.5372e-21, -3.0759e-23,  5.8132e-25, -1.0408e-26],\n",
       "         [ 1.0000e+00, -6.9028e-02,  2.3824e-03, -5.4818e-05,  9.4598e-07,\n",
       "          -1.3060e-08,  1.5025e-10, -1.4816e-12,  1.2784e-14, -9.8051e-17,\n",
       "           6.7682e-19, -4.2472e-21,  2.4431e-23, -1.2973e-25,  6.3962e-28,\n",
       "          -2.9434e-30,  1.2699e-32, -5.1562e-35,  1.9774e-37, -7.1838e-40]]),\n",
       " tensor([4.3425, 5.0414]))"
      ]
     },
     "execution_count": 3,
     "metadata": {},
     "output_type": "execute_result"
    }
   ],
   "source": [
    "true_w, features, poly_features, labels = [\n",
    "    torch.tensor(x, dtype=torch.float32) for x in [true_w, features, poly_features, labels]\n",
    "]\n",
    "for x in [true_w, features, poly_features, labels]:\n",
    "    x = torch.tensor(x, dtype=torch.float32)\n",
    "\n",
    "features[:2], poly_features[:2, :], labels[:2]\n"
   ]
  },
  {
   "cell_type": "code",
   "execution_count": 4,
   "id": "9ecf69d7",
   "metadata": {},
   "outputs": [],
   "source": [
    "def evaluate_loss(net, data_iter, loss):\n",
    "    \"\"\"评估给定数据集上模型的损失。\"\"\"\n",
    "    metric = d2l.Accumulator(2)\n",
    "    for X, y in data_iter:\n",
    "        out = net(X)\n",
    "        y = y.reshape(out.shape)\n",
    "        l = loss(out, y)\n",
    "        metric.add(l.sum(), l.numel())\n",
    "    return metric[0] / metric[1]\n"
   ]
  },
  {
   "cell_type": "code",
   "execution_count": 6,
   "id": "134230b8",
   "metadata": {},
   "outputs": [],
   "source": [
    "def train(train_features, test_features, train_labels, test_labels, num_epochs=400):\n",
    "    loss = nn.MSELoss()\n",
    "    input_shape = train_features.shape[-1]\n",
    "    net = nn.Sequential(nn.Linear(input_shape, 1, bias=False))\n",
    "    batch_size = min(10, train_labels.shape[0])\n",
    "    train_iter = d2l.load_array((train_features, train_labels.reshape(-1, 1)), batch_size)\n",
    "    test_iter = d2l.load_array((test_features, test_labels.reshape(1, -1)), batch_size, is_train=False)\n",
    "    trainer = torch.optim.SGD(net.parameters(), lr=0.01)\n",
    "    animator = d2l.Animator(xlabel='epoch', ylabel='loss', xlim=[1, num_epochs], ylim=[1e-3, 1])\n",
    "    \n",
    "    for epoch in range(num_epochs):\n",
    "        train_epoch_ch3(net, train_iter, loss, trainer)\n",
    "        if epoch == 0 or (epoch + 1) % 20 == 0:\n",
    "            animator.add(epoch + 1, (evaluate_loss(net, train_iter, loss), evaluate_loss(net, test_iter, loss)))\n",
    "        print('weight:', net[0].weight.data.numpy())\n"
   ]
  },
  {
   "cell_type": "code",
   "execution_count": 7,
   "id": "0948b9ee",
   "metadata": {},
   "outputs": [
    {
     "ename": "AssertionError",
     "evalue": "Size mismatch between tensors",
     "output_type": "error",
     "traceback": [
      "\u001b[0;31m---------------------------------------------------------------------------\u001b[0m",
      "\u001b[0;31mAssertionError\u001b[0m                            Traceback (most recent call last)",
      "Cell \u001b[0;32mIn[7], line 1\u001b[0m\n\u001b[0;32m----> 1\u001b[0m train(poly_features[:n_train, :\u001b[38;5;241m4\u001b[39m], poly_features[n_train:, :\u001b[38;5;241m4\u001b[39m], labels[:n_train], labels[n_train:])\n",
      "Cell \u001b[0;32mIn[6], line 7\u001b[0m, in \u001b[0;36mtrain\u001b[0;34m(train_features, test_features, train_labels, test_labels, num_epochs)\u001b[0m\n\u001b[1;32m      5\u001b[0m batch_size \u001b[38;5;241m=\u001b[39m \u001b[38;5;28mmin\u001b[39m(\u001b[38;5;241m10\u001b[39m, train_labels\u001b[38;5;241m.\u001b[39mshape[\u001b[38;5;241m0\u001b[39m])\n\u001b[1;32m      6\u001b[0m train_iter \u001b[38;5;241m=\u001b[39m d2l\u001b[38;5;241m.\u001b[39mload_array((train_features, train_labels\u001b[38;5;241m.\u001b[39mreshape(\u001b[38;5;241m-\u001b[39m\u001b[38;5;241m1\u001b[39m, \u001b[38;5;241m1\u001b[39m)), batch_size)\n\u001b[0;32m----> 7\u001b[0m test_iter \u001b[38;5;241m=\u001b[39m d2l\u001b[38;5;241m.\u001b[39mload_array((test_features, test_labels\u001b[38;5;241m.\u001b[39mreshape(\u001b[38;5;241m1\u001b[39m, \u001b[38;5;241m-\u001b[39m\u001b[38;5;241m1\u001b[39m)), batch_size, is_train\u001b[38;5;241m=\u001b[39m\u001b[38;5;28;01mFalse\u001b[39;00m)\n\u001b[1;32m      8\u001b[0m trainer \u001b[38;5;241m=\u001b[39m torch\u001b[38;5;241m.\u001b[39moptim\u001b[38;5;241m.\u001b[39mSGD(net\u001b[38;5;241m.\u001b[39mparameters(), lr\u001b[38;5;241m=\u001b[39m\u001b[38;5;241m0.01\u001b[39m)\n\u001b[1;32m      9\u001b[0m animator \u001b[38;5;241m=\u001b[39m d2l\u001b[38;5;241m.\u001b[39mAnimator(xlabel\u001b[38;5;241m=\u001b[39m\u001b[38;5;124m'\u001b[39m\u001b[38;5;124mepoch\u001b[39m\u001b[38;5;124m'\u001b[39m, ylabel\u001b[38;5;241m=\u001b[39m\u001b[38;5;124m'\u001b[39m\u001b[38;5;124mloss\u001b[39m\u001b[38;5;124m'\u001b[39m, xlim\u001b[38;5;241m=\u001b[39m[\u001b[38;5;241m1\u001b[39m, num_epochs], ylim\u001b[38;5;241m=\u001b[39m[\u001b[38;5;241m1e-3\u001b[39m, \u001b[38;5;241m1\u001b[39m])\n",
      "File \u001b[0;32m~/anaconda3/lib/python3.11/site-packages/d2l/torch.py:2983\u001b[0m, in \u001b[0;36mload_array\u001b[0;34m(data_arrays, batch_size, is_train)\u001b[0m\n\u001b[1;32m   2979\u001b[0m \u001b[38;5;28;01mdef\u001b[39;00m \u001b[38;5;21mload_array\u001b[39m(data_arrays, batch_size, is_train\u001b[38;5;241m=\u001b[39m\u001b[38;5;28;01mTrue\u001b[39;00m):\n\u001b[1;32m   2980\u001b[0m \u001b[38;5;250m    \u001b[39m\u001b[38;5;124;03m\"\"\"Construct a PyTorch data iterator.\u001b[39;00m\n\u001b[1;32m   2981\u001b[0m \n\u001b[1;32m   2982\u001b[0m \u001b[38;5;124;03m    Defined in :numref:`sec_utils`\"\"\"\u001b[39;00m\n\u001b[0;32m-> 2983\u001b[0m     dataset \u001b[38;5;241m=\u001b[39m torch\u001b[38;5;241m.\u001b[39mutils\u001b[38;5;241m.\u001b[39mdata\u001b[38;5;241m.\u001b[39mTensorDataset(\u001b[38;5;241m*\u001b[39mdata_arrays)\n\u001b[1;32m   2984\u001b[0m     \u001b[38;5;28;01mreturn\u001b[39;00m torch\u001b[38;5;241m.\u001b[39mutils\u001b[38;5;241m.\u001b[39mdata\u001b[38;5;241m.\u001b[39mDataLoader(dataset, batch_size, shuffle\u001b[38;5;241m=\u001b[39mis_train)\n",
      "File \u001b[0;32m~/anaconda3/lib/python3.11/site-packages/torch/utils/data/dataset.py:204\u001b[0m, in \u001b[0;36mTensorDataset.__init__\u001b[0;34m(self, *tensors)\u001b[0m\n\u001b[1;32m    203\u001b[0m \u001b[38;5;28;01mdef\u001b[39;00m \u001b[38;5;21m__init__\u001b[39m(\u001b[38;5;28mself\u001b[39m, \u001b[38;5;241m*\u001b[39mtensors: Tensor) \u001b[38;5;241m-\u001b[39m\u001b[38;5;241m>\u001b[39m \u001b[38;5;28;01mNone\u001b[39;00m:\n\u001b[0;32m--> 204\u001b[0m     \u001b[38;5;28;01massert\u001b[39;00m \u001b[38;5;28mall\u001b[39m(tensors[\u001b[38;5;241m0\u001b[39m]\u001b[38;5;241m.\u001b[39msize(\u001b[38;5;241m0\u001b[39m) \u001b[38;5;241m==\u001b[39m tensor\u001b[38;5;241m.\u001b[39msize(\u001b[38;5;241m0\u001b[39m) \u001b[38;5;28;01mfor\u001b[39;00m tensor \u001b[38;5;129;01min\u001b[39;00m tensors), \u001b[38;5;124m\"\u001b[39m\u001b[38;5;124mSize mismatch between tensors\u001b[39m\u001b[38;5;124m\"\u001b[39m\n\u001b[1;32m    205\u001b[0m     \u001b[38;5;28mself\u001b[39m\u001b[38;5;241m.\u001b[39mtensors \u001b[38;5;241m=\u001b[39m tensors\n",
      "\u001b[0;31mAssertionError\u001b[0m: Size mismatch between tensors"
     ]
    }
   ],
   "source": [
    "train(poly_features[:n_train, :4], poly_features[n_train:, :4], labels[:n_train], labels[n_train:])\n"
   ]
  }
 ],
 "metadata": {
  "kernelspec": {
   "display_name": "Python 3 (ipykernel)",
   "language": "python",
   "name": "python3"
  },
  "language_info": {
   "codemirror_mode": {
    "name": "ipython",
    "version": 3
   },
   "file_extension": ".py",
   "mimetype": "text/x-python",
   "name": "python",
   "nbconvert_exporter": "python",
   "pygments_lexer": "ipython3",
   "version": "3.11.4"
  }
 },
 "nbformat": 4,
 "nbformat_minor": 5
}
